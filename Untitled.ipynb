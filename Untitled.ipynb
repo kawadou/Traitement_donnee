{
 "cells": [
  {
   "cell_type": "code",
   "execution_count": 42,
   "id": "4166f9c4-4cb0-434d-b401-28f96f5a6b21",
   "metadata": {
    "tags": []
   },
   "outputs": [],
   "source": [
    "import requests\n",
    "import pandas as pd\n",
    "import geopandas as gpd\n",
    "from shapely.geometry import Point\n",
    "import folium"
   ]
  },
  {
   "cell_type": "markdown",
   "id": "937dac3e-a075-454e-b20e-f3135711b8b1",
   "metadata": {},
   "source": [
    "## 1. Récupérations des données à partir de GBIF"
   ]
  },
  {
   "cell_type": "code",
   "execution_count": 43,
   "id": "6d9278c7-e12b-49b9-82e2-f580415444e3",
   "metadata": {
    "tags": []
   },
   "outputs": [],
   "source": [
    "def get_lion_data():\n",
    "    # Définir les paramètres de la requête\n",
    "    params = {\n",
    "        'q': 'Panthera leo',  # Rechercher les données sur Panthera leo (lion)\n",
    "        #'hasCoordinate': 'true',  # Exclure les enregistrements sans coordonnées géographiques\n",
    "        'limit': 10000  # Limiter le nombre de résultats à 10000\n",
    "    }\n",
    "    \n",
    "    # Faire une requête à l'API GBIF\n",
    "    response = requests.get('https://api.gbif.org/v1/occurrence/search', params=params)\n",
    "    \n",
    "    # Vérifier si la requête a réussi\n",
    "    if response.status_code == 200:\n",
    "        # Extraire les données JSON\n",
    "        data = response.json()\n",
    "        return data['results']\n",
    "    else:\n",
    "        print(\"Erreur lors de la récupération des données:\", response.status_code)\n",
    "        return None"
   ]
  },
  {
   "cell_type": "markdown",
   "id": "542d34d8-0c43-4e1b-b4a7-cf0199f8d7e4",
   "metadata": {},
   "source": [
    "## 2. Nettoyer les données en éliminant les enregistrements incomplets :"
   ]
  },
  {
   "cell_type": "code",
   "execution_count": 44,
   "id": "083862b3-4e0f-4a8b-802a-21e8edbf080c",
   "metadata": {
    "tags": []
   },
   "outputs": [],
   "source": [
    "def clean_lion_data(data):\n",
    "    # Convertir les données en DataFrame pandas\n",
    "    df = pd.DataFrame(data)\n",
    "    \n",
    "    # Supprimer les enregistrements avec des valeurs manquantes dans les colonnes de géolocalisation\n",
    "    df = df.dropna(subset=['decimalLatitude', 'decimalLongitude'])\n",
    "    \n",
    "    return df"
   ]
  },
  {
   "cell_type": "markdown",
   "id": "92dd5177-0d94-4b46-8226-60ab410c6eb1",
   "metadata": {},
   "source": [
    "## 3. Sauvegarder les données nettoyées dans un fichier CSV :"
   ]
  },
  {
   "cell_type": "code",
   "execution_count": 45,
   "id": "72d43107-a6e1-4a98-89d9-2a4318ddf84d",
   "metadata": {
    "tags": []
   },
   "outputs": [],
   "source": [
    "def save_to_csv(data, filename='lion_data.csv'):\n",
    "    # Sauvegarder les données nettoyées dans un fichier CSV\n",
    "    data.to_csv(filename, index=False)\n",
    "    \n",
    "# Récupérer les données sur les lions\n",
    "lion_data = get_lion_data()\n",
    "\n",
    "# Nettoyer les données\n",
    "cleaned_lion_data = clean_lion_data(lion_data)\n",
    "\n",
    "# Sauvegarder les données nettoyées dans un fichier CSV\n",
    "save_to_csv(cleaned_lion_data, filename='lion_data.csv')"
   ]
  },
  {
   "cell_type": "markdown",
   "id": "ca4199cd-1e0c-4d43-a11b-00bf865c8a1f",
   "metadata": {},
   "source": [
    "## 4. Orchestration pour maintenir la base de données ou le fichier CSV à jour"
   ]
  },
  {
   "cell_type": "markdown",
   "id": "56081357-4bf1-4769-8f37-2af846e5708c",
   "metadata": {},
   "source": [
    "### Ici pour supprimer les doublons "
   ]
  },
  {
   "cell_type": "code",
   "execution_count": 46,
   "id": "7c8dfecd-139d-4334-b044-1dc7c01b57b3",
   "metadata": {
    "tags": []
   },
   "outputs": [
    {
     "name": "stdout",
     "output_type": "stream",
     "text": [
      "Données mises à jour avec succès.\n"
     ]
    }
   ],
   "source": [
    "def update_database_or_csv(data):\n",
    "    # Vérifier si le fichier CSV existe déjà\n",
    "    try:\n",
    "        existing_data = pd.read_csv('lion_data.csv')\n",
    "        # Concaténer les données existantes avec les nouvelles données\n",
    "        updated_data = pd.concat([existing_data, data], ignore_index=True)\n",
    "        # Supprimer les éventuels doublons en utilisant les colonnes 'decimalLatitude' et 'decimalLongitude'\n",
    "        updated_data.drop_duplicates(subset=['decimalLatitude', 'decimalLongitude'], inplace=True)\n",
    "        # Sauvegarder les données mises à jour dans le même fichier CSV\n",
    "        save_to_csv(updated_data, filename='lion_data1.csv')\n",
    "        print(\"Données mises à jour avec succès.\")\n",
    "    except FileNotFoundError:\n",
    "        # Si le fichier CSV n'existe pas, simplement sauvegarder les nouvelles données dans un nouveau fichier\n",
    "        save_to_csv(data, filename='lion_data1.csv')\n",
    "        print(\"Nouveau fichier CSV créé avec succès.\")\n",
    "\n",
    "# Maintenant, vous pouvez appeler cette fonction après avoir nettoyé les nouvelles données et avant de créer la carte :\n",
    "# Récupérer les données sur les lions\n",
    "lion_data = get_lion_data()\n",
    "\n",
    "# Nettoyer les données\n",
    "cleaned_lion_data = clean_lion_data(lion_data)\n",
    "\n",
    "# Mettre à jour la base de données ou le fichier CSV\n",
    "update_database_or_csv(cleaned_lion_data)\n",
    "\n"
   ]
  },
  {
   "cell_type": "markdown",
   "id": "74dedc15-6015-4114-94e4-36ba3cb2f5d3",
   "metadata": {},
   "source": [
    "### Ici pour concaténer deux fichiers "
   ]
  },
  {
   "cell_type": "code",
   "execution_count": 47,
   "id": "70fd0b0c-1d5a-4a6d-9740-c7e218d9bfb2",
   "metadata": {
    "tags": []
   },
   "outputs": [],
   "source": [
    "def update_database_or_csv(new_data):\n",
    "    # Charger le fichier CSV existant s'il existe\n",
    "    try:\n",
    "        existing_data = pd.read_csv('lion_data.csv')\n",
    "    except FileNotFoundError:\n",
    "        existing_data = pd.DataFrame()  # Créer un DataFrame vide s'il n'existe pas de fichier CSV\n",
    "    \n",
    "    # Concaténer les nouveaux données avec les données existantes\n",
    "    updated_data = pd.concat([existing_data, new_data], ignore_index=True)\n",
    "    \n",
    "    # Enregistrer le DataFrame mis à jour dans un nouveau fichier CSV\n",
    "    updated_data.to_csv('lion_data_updated.csv', index=False)\n",
    "# Récupérer les données sur les lions\n",
    "lion_data = get_lion_data()\n",
    "\n",
    "# Nettoyer les données\n",
    "cleaned_lion_data = clean_lion_data(lion_data)\n",
    "\n",
    "# Mettre à jour la base de données ou le fichier CSV\n",
    "update_database_or_csv(cleaned_lion_data)\n",
    "\n",
    "\n"
   ]
  },
  {
   "cell_type": "markdown",
   "id": "a0ede07e-1fa0-427d-91c6-def48cb3be74",
   "metadata": {},
   "source": [
    "## 5. Créations de la carte"
   ]
  },
  {
   "cell_type": "code",
   "execution_count": 48,
   "id": "584a8cb8-085c-4061-976f-461800bef18a",
   "metadata": {
    "tags": []
   },
   "outputs": [],
   "source": [
    "data = pd.read_csv(\"lion_data.csv\")"
   ]
  },
  {
   "cell_type": "code",
   "execution_count": 50,
   "id": "93cc079e-3c0e-4407-9537-de638f92b1af",
   "metadata": {
    "tags": []
   },
   "outputs": [],
   "source": [
    "def create_distribution_map(data):\n",
    "    # Créer une carte Folium centrée sur une position de départ\n",
    "    lion_map = folium.Map(location=[0, 0], zoom_start=2)\n",
    "\n",
    "    # Ajouter un marqueur pour chaque enregistrement de lion\n",
    "    for index, row in data.iterrows():\n",
    "        # Récupérer les coordonnées du point et le nom du pays\n",
    "        lat, lon = row['decimalLatitude'], row['decimalLongitude']\n",
    "        country = row['country']\n",
    "        \n",
    "        # Créer un marqueur avec le nom du pays comme étiquette\n",
    "        folium.Marker([lat, lon], popup=country, icon=folium.Icon(color='red')).add_to(lion_map)\n",
    "    \n",
    "    # Afficher la carte\n",
    "    lion_map.save('lion_distribution_map.html')\n",
    "\n",
    "\n",
    "\n",
    "# Créer une carte illustrant la répartition des lions sur Terre avec Folium\n",
    "create_distribution_map(cleaned_lion_data)\n"
   ]
  }
 ],
 "metadata": {
  "kernelspec": {
   "display_name": "Python 3 (ipykernel)",
   "language": "python",
   "name": "python3"
  },
  "language_info": {
   "codemirror_mode": {
    "name": "ipython",
    "version": 3
   },
   "file_extension": ".py",
   "mimetype": "text/x-python",
   "name": "python",
   "nbconvert_exporter": "python",
   "pygments_lexer": "ipython3",
   "version": "3.11.5"
  }
 },
 "nbformat": 4,
 "nbformat_minor": 5
}
